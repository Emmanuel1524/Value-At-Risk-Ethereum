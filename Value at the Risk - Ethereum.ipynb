{
 "cells": [
  {
   "cell_type": "markdown",
   "metadata": {},
   "source": [
    "# Objetivos e Metodologia #"
   ]
  },
  {
   "cell_type": "markdown",
   "metadata": {},
   "source": [
    "Em meus trabalhos anteriores, busquei realizar uma análise exploratória em cima do mercado de criptomoedas, identificando qual o melhor ativo em termos de risco-retorno para um potencial investidor através do cálculo de diferentes indices Share."
   ]
  },
  {
   "cell_type": "markdown",
   "metadata": {},
   "source": [
    "O objetivo desse trabalho é responder a seguinte pergunta: \"Uma vez que o Ethereum é uma das criptomoedas mais atrativas dos últimos tempos, qual a melhor forma de gerenciar o risco de carteira ao investir nesse ativo?\n"
   ]
  },
  {
   "cell_type": "markdown",
   "metadata": {},
   "source": [
    "Para isso utilizar-se-a como metodologia o Value-at-Risk (VaR) através de duas abordagens populares:\n",
    "- Simulação de monte Carlo (Método semi-paramétrico) \n",
    "- Simulação Historica (Método não paramétrico)\n",
    "\n",
    "todas as abordagens levaram em conta testes com 95% de confiança"
   ]
  },
  {
   "cell_type": "markdown",
   "metadata": {},
   "source": [
    "Os dados serão extraídos da API do Yahoo Finance para os dados de 01/01/2022 ate 01/09/2022"
   ]
  },
  {
   "cell_type": "markdown",
   "metadata": {},
   "source": [
    "______________________________"
   ]
  },
  {
   "cell_type": "markdown",
   "metadata": {},
   "source": [
    "# 1 - Importar Bibliotecas e Dados Relevantes"
   ]
  },
  {
   "cell_type": "code",
   "execution_count": 1,
   "metadata": {},
   "outputs": [],
   "source": [
    "import pandas as pd \n",
    "import numpy as np\n",
    "from datetime import date \n",
    "from pandas_datareader import data as wb \n",
    "import matplotlib.pyplot as plt\n",
    "import seaborn as sns \n",
    "from scipy.stats import skew, kurtosis\n",
    "\n",
    "sns.set()"
   ]
  },
  {
   "cell_type": "code",
   "execution_count": 2,
   "metadata": {},
   "outputs": [],
   "source": [
    "start_date = date(2022,1,1)\n",
    "end_date = date(2022,9,1)\n",
    "cripto = \"ETC-USD\""
   ]
  },
  {
   "cell_type": "code",
   "execution_count": 3,
   "metadata": {},
   "outputs": [
    {
     "data": {
      "text/html": [
       "<div>\n",
       "<style scoped>\n",
       "    .dataframe tbody tr th:only-of-type {\n",
       "        vertical-align: middle;\n",
       "    }\n",
       "\n",
       "    .dataframe tbody tr th {\n",
       "        vertical-align: top;\n",
       "    }\n",
       "\n",
       "    .dataframe thead th {\n",
       "        text-align: right;\n",
       "    }\n",
       "</style>\n",
       "<table border=\"1\" class=\"dataframe\">\n",
       "  <thead>\n",
       "    <tr style=\"text-align: right;\">\n",
       "      <th></th>\n",
       "      <th>High</th>\n",
       "      <th>Low</th>\n",
       "      <th>Open</th>\n",
       "      <th>Close</th>\n",
       "      <th>Volume</th>\n",
       "      <th>Adj Close</th>\n",
       "    </tr>\n",
       "    <tr>\n",
       "      <th>Date</th>\n",
       "      <th></th>\n",
       "      <th></th>\n",
       "      <th></th>\n",
       "      <th></th>\n",
       "      <th></th>\n",
       "      <th></th>\n",
       "    </tr>\n",
       "  </thead>\n",
       "  <tbody>\n",
       "    <tr>\n",
       "      <th>2022-01-01</th>\n",
       "      <td>34.868908</td>\n",
       "      <td>34.104370</td>\n",
       "      <td>34.127926</td>\n",
       "      <td>34.868908</td>\n",
       "      <td>296981997</td>\n",
       "      <td>34.868908</td>\n",
       "    </tr>\n",
       "    <tr>\n",
       "      <th>2022-01-02</th>\n",
       "      <td>35.827923</td>\n",
       "      <td>34.393417</td>\n",
       "      <td>34.861294</td>\n",
       "      <td>35.396397</td>\n",
       "      <td>317124380</td>\n",
       "      <td>35.396397</td>\n",
       "    </tr>\n",
       "    <tr>\n",
       "      <th>2022-01-03</th>\n",
       "      <td>35.396278</td>\n",
       "      <td>34.238834</td>\n",
       "      <td>35.396278</td>\n",
       "      <td>34.707752</td>\n",
       "      <td>321506032</td>\n",
       "      <td>34.707752</td>\n",
       "    </tr>\n",
       "    <tr>\n",
       "      <th>2022-01-04</th>\n",
       "      <td>34.969547</td>\n",
       "      <td>34.000286</td>\n",
       "      <td>34.707985</td>\n",
       "      <td>34.171375</td>\n",
       "      <td>320064071</td>\n",
       "      <td>34.171375</td>\n",
       "    </tr>\n",
       "    <tr>\n",
       "      <th>2022-01-05</th>\n",
       "      <td>34.774685</td>\n",
       "      <td>30.916988</td>\n",
       "      <td>34.170959</td>\n",
       "      <td>32.077309</td>\n",
       "      <td>406196500</td>\n",
       "      <td>32.077309</td>\n",
       "    </tr>\n",
       "    <tr>\n",
       "      <th>2022-01-06</th>\n",
       "      <td>32.078541</td>\n",
       "      <td>30.829008</td>\n",
       "      <td>32.076229</td>\n",
       "      <td>31.661449</td>\n",
       "      <td>404049801</td>\n",
       "      <td>31.661449</td>\n",
       "    </tr>\n",
       "    <tr>\n",
       "      <th>2022-01-07</th>\n",
       "      <td>31.717400</td>\n",
       "      <td>29.469898</td>\n",
       "      <td>31.658976</td>\n",
       "      <td>30.440365</td>\n",
       "      <td>484193365</td>\n",
       "      <td>30.440365</td>\n",
       "    </tr>\n",
       "    <tr>\n",
       "      <th>2022-01-08</th>\n",
       "      <td>30.996729</td>\n",
       "      <td>28.557243</td>\n",
       "      <td>30.441378</td>\n",
       "      <td>29.407278</td>\n",
       "      <td>346457416</td>\n",
       "      <td>29.407278</td>\n",
       "    </tr>\n",
       "    <tr>\n",
       "      <th>2022-01-09</th>\n",
       "      <td>30.246172</td>\n",
       "      <td>29.242329</td>\n",
       "      <td>29.408775</td>\n",
       "      <td>29.766279</td>\n",
       "      <td>276026108</td>\n",
       "      <td>29.766279</td>\n",
       "    </tr>\n",
       "    <tr>\n",
       "      <th>2022-01-10</th>\n",
       "      <td>30.040804</td>\n",
       "      <td>27.443287</td>\n",
       "      <td>29.767237</td>\n",
       "      <td>28.478306</td>\n",
       "      <td>437938047</td>\n",
       "      <td>28.478306</td>\n",
       "    </tr>\n",
       "  </tbody>\n",
       "</table>\n",
       "</div>"
      ],
      "text/plain": [
       "                 High        Low       Open      Close     Volume  Adj Close\n",
       "Date                                                                        \n",
       "2022-01-01  34.868908  34.104370  34.127926  34.868908  296981997  34.868908\n",
       "2022-01-02  35.827923  34.393417  34.861294  35.396397  317124380  35.396397\n",
       "2022-01-03  35.396278  34.238834  35.396278  34.707752  321506032  34.707752\n",
       "2022-01-04  34.969547  34.000286  34.707985  34.171375  320064071  34.171375\n",
       "2022-01-05  34.774685  30.916988  34.170959  32.077309  406196500  32.077309\n",
       "2022-01-06  32.078541  30.829008  32.076229  31.661449  404049801  31.661449\n",
       "2022-01-07  31.717400  29.469898  31.658976  30.440365  484193365  30.440365\n",
       "2022-01-08  30.996729  28.557243  30.441378  29.407278  346457416  29.407278\n",
       "2022-01-09  30.246172  29.242329  29.408775  29.766279  276026108  29.766279\n",
       "2022-01-10  30.040804  27.443287  29.767237  28.478306  437938047  28.478306"
      ]
     },
     "execution_count": 3,
     "metadata": {},
     "output_type": "execute_result"
    }
   ],
   "source": [
    "etc = wb.DataReader(cripto, data_source = \"yahoo\", start = start_date, end = end_date )\n",
    "etc.head(10)"
   ]
  },
  {
   "cell_type": "markdown",
   "metadata": {},
   "source": [
    "# Análise Exploratória Inicial "
   ]
  },
  {
   "cell_type": "code",
   "execution_count": 4,
   "metadata": {},
   "outputs": [
    {
     "name": "stdout",
     "output_type": "stream",
     "text": [
      "<class 'pandas.core.frame.DataFrame'>\n",
      "DatetimeIndex: 245 entries, 2022-01-01 to 2022-09-02\n",
      "Data columns (total 6 columns):\n",
      " #   Column     Non-Null Count  Dtype  \n",
      "---  ------     --------------  -----  \n",
      " 0   High       245 non-null    float64\n",
      " 1   Low        245 non-null    float64\n",
      " 2   Open       245 non-null    float64\n",
      " 3   Close      245 non-null    float64\n",
      " 4   Volume     245 non-null    int64  \n",
      " 5   Adj Close  245 non-null    float64\n",
      "dtypes: float64(5), int64(1)\n",
      "memory usage: 13.4 KB\n"
     ]
    }
   ],
   "source": [
    "#Check de Missing Date \n",
    "\n",
    "etc.info()"
   ]
  },
  {
   "cell_type": "markdown",
   "metadata": {},
   "source": [
    "Como a base de dados não apresenta missing values e todos os dados estão com os tipos corretamente estipulados, a análise pode continuar sem problemas..."
   ]
  },
  {
   "cell_type": "code",
   "execution_count": 5,
   "metadata": {},
   "outputs": [
    {
     "data": {
      "text/plain": [
       "Date\n",
       "2022-01-02    1.512777\n",
       "2022-01-03   -1.945521\n",
       "2022-01-04   -1.545410\n",
       "2022-01-05   -6.128131\n",
       "2022-01-06   -1.296428\n",
       "Name: Adj Close, dtype: float64"
      ]
     },
     "execution_count": 5,
     "metadata": {},
     "output_type": "execute_result"
    }
   ],
   "source": [
    "#Construindo a base de retornos diários \n",
    "\n",
    "etc_returns = etc[\"Adj Close\"].pct_change().mul(100).dropna()\n",
    "etc_returns.head()"
   ]
  },
  {
   "cell_type": "code",
   "execution_count": 6,
   "metadata": {},
   "outputs": [
    {
     "data": {
      "text/plain": [
       "count    244.000000\n",
       "mean       0.172495\n",
       "std        6.497361\n",
       "min      -17.095350\n",
       "25%       -3.766880\n",
       "50%       -0.262158\n",
       "75%        3.064906\n",
       "max       32.505888\n",
       "Name: Adj Close, dtype: float64"
      ]
     },
     "execution_count": 6,
     "metadata": {},
     "output_type": "execute_result"
    }
   ],
   "source": [
    "# Estatísticas descritivas \n",
    "\n",
    "etc_returns.describe()"
   ]
  },
  {
   "cell_type": "code",
   "execution_count": 81,
   "metadata": {},
   "outputs": [
    {
     "name": "stderr",
     "output_type": "stream",
     "text": [
      "C:\\Users\\emman\\anaconda3\\lib\\site-packages\\seaborn\\distributions.py:2551: FutureWarning: `distplot` is a deprecated function and will be removed in a future version. Please adapt your code to use either `displot` (a figure-level function with similar flexibility) or `histplot` (an axes-level function for histograms).\n",
      "  warnings.warn(msg, FutureWarning)\n"
     ]
    },
    {
     "data": {
      "image/png": "[encoded data removed]",
      "text/plain": [
       "<Figure size 432x288 with 1 Axes>"
      ]
     },
     "metadata": {},
     "output_type": "display_data"
    }
   ],
   "source": [
    "#gráfico de distribuição\n",
    "\n",
    "sns.distplot(etc_returns, kde = True)\n",
    "plt.title(\"Ethereum Returns Distribution\")\n",
    "plt.text(25,0.07,\"Std: \" + str(round(np.std(etc_returns),2)) + \" %\")\n",
    "plt.text(25,0.07,\"Std: \" + str(round(np.std(etc_returns),2)) + \" %\")\n",
    "plt.text(25,0.06,\"Mean: \" + str(round(np.mean(etc_returns),2)) + \" %\")\n",
    "plt.text(25,0.06,\"Mean: \" + str(round(np.mean(etc_returns),2)) + \" %\")\n",
    "\n",
    "plt.show()"
   ]
  },
  {
   "cell_type": "code",
   "execution_count": 8,
   "metadata": {},
   "outputs": [
    {
     "name": "stdout",
     "output_type": "stream",
     "text": [
      "1.21 : Skewness\n",
      "4.91 : Kurtosis\n"
     ]
    }
   ],
   "source": [
    "# Assimetria e Curtose \n",
    "\n",
    "print(round(etc_returns.skew(),2),\": Skewness\")\n",
    "print(round(etc_returns.kurtosis(),2), \": Kurtosis\")"
   ]
  },
  {
   "cell_type": "code",
   "execution_count": 9,
   "metadata": {},
   "outputs": [
    {
     "data": {
      "image/png": "[encoded data removed]",
      "text/plain": [
       "<Figure size 432x288 with 1 Axes>"
      ]
     },
     "metadata": {},
     "output_type": "display_data"
    }
   ],
   "source": [
    "#serie histórica de preço \n",
    "\n",
    "plt.plot(etc[\"Adj Close\"]/ etc[\"Adj Close\"][0])\n",
    "plt.title(\"Normalized Ethereum Price\")\n",
    "plt.xticks(rotation = 45)\n",
    "plt.show()\n"
   ]
  },
  {
   "cell_type": "markdown",
   "metadata": {},
   "source": [
    "# 2 - Aplicando o Value at Risk "
   ]
  },
  {
   "cell_type": "markdown",
   "metadata": {},
   "source": [
    "2.1 Uso da métodologia não paramétrica: Serie Histórica"
   ]
  },
  {
   "cell_type": "code",
   "execution_count": 10,
   "metadata": {},
   "outputs": [
    {
     "name": "stdout",
     "output_type": "stream",
     "text": [
      "Value at Risk:  -8.74\n"
     ]
    }
   ],
   "source": [
    "var_95 = np.percentile(etc_returns, 5)\n",
    "print(\"Value at Risk: \",round(var_95,2))"
   ]
  },
  {
   "cell_type": "markdown",
   "metadata": {},
   "source": [
    "Pela metodologia do VaR utilizando a serie histórica, significa que a perda potenciial limite de um investidor para um dia de trading é de 8,74% com 95% de confinança. Ou então, sigfnica que existe 5% de chance da perda potencial de um investidor superar 8,74% em um dia "
   ]
  },
  {
   "cell_type": "code",
   "execution_count": 11,
   "metadata": {},
   "outputs": [
    {
     "name": "stdout",
     "output_type": "stream",
     "text": [
      "Conditional Value at Risk:  -11.88\n"
     ]
    }
   ],
   "source": [
    "Cvar_95 = etc_returns[etc_returns <= np.percentile(etc_returns,5)].mean()\n",
    "print(\"Conditional Value at Risk: \",round(Cvar_95,2))"
   ]
  },
  {
   "cell_type": "markdown",
   "metadata": {},
   "source": [
    "Ampliando o uso do Var, a aplicação do Value at Risk condicional mede a perda potencial considerando a média dos principais cenários de perda a partir de uma distribuição de probabilidade. No nosso caso, o CVar com 95% de confiança indicou que a perda potencial limite de um investidor gira em torno de 11,88% em um dia "
   ]
  },
  {
   "cell_type": "code",
   "execution_count": 12,
   "metadata": {},
   "outputs": [
    {
     "name": "stderr",
     "output_type": "stream",
     "text": [
      "C:\\Users\\emman\\anaconda3\\lib\\site-packages\\seaborn\\distributions.py:2551: FutureWarning: `distplot` is a deprecated function and will be removed in a future version. Please adapt your code to use either `displot` (a figure-level function with similar flexibility) or `histplot` (an axes-level function for histograms).\n",
      "  warnings.warn(msg, FutureWarning)\n"
     ]
    },
    {
     "data": {
      "image/png": "[encoded data removed]",
      "text/plain": [
       "<Figure size 720x576 with 1 Axes>"
      ]
     },
     "metadata": {},
     "output_type": "display_data"
    },
    {
     "name": "stdout",
     "output_type": "stream",
     "text": [
      "Value at Risk:  -8.74\n",
      "Conditional Value at Risk:  -11.88\n"
     ]
    }
   ],
   "source": [
    "#plot no gráfico \n",
    "\n",
    "plt.figure(figsize= (10,8))\n",
    "sns.distplot(etc_returns, kde = True)\n",
    "plt.title(\"Ethereum Returns Distribution\")\n",
    "plt.text(25,0.065,\"Std: \" + str(round(np.std(etc_returns),2)) + \" %\")\n",
    "plt.text(25,0.065,\"Std: \" + str(round(np.std(etc_returns),2)) + \" %\")\n",
    "plt.text(25,0.06,\"Mean: \" + str(round(np.mean(etc_returns),2)) + \" %\")\n",
    "plt.text(25,0.06,\"Mean: \" + str(round(np.mean(etc_returns),2)) + \" %\")\n",
    "plt.axvline(x = var_95, color = \"Red\", label = \"Var(95)\")\n",
    "plt.axvline(x = Cvar_95, color = \"Red\", label = \"CVar(95)\", linestyle = \"--\")\n",
    "plt.legend()\n",
    "plt.show()\n",
    "\n",
    "print(\"Value at Risk: \",round(var_95,2))\n",
    "print(\"Conditional Value at Risk: \",round(Cvar_95,2))"
   ]
  },
  {
   "cell_type": "markdown",
   "metadata": {},
   "source": [
    "2.2 Monte Carlo Simulation"
   ]
  },
  {
   "cell_type": "code",
   "execution_count": 13,
   "metadata": {},
   "outputs": [],
   "source": [
    "mean_returns = np.mean(etc_returns)\n",
    "std_returns = np.std(etc_returns)\n",
    "periods = len(etc_returns)\n",
    "MC_returns = []\n",
    "\n",
    "\n",
    "for i in range(1000):\n",
    "    rand_returns = np.random.normal(mean_returns, std_returns, periods)\n",
    "    MC_returns.append(rand_returns)\n",
    "\n",
    "\n"
   ]
  },
  {
   "cell_type": "code",
   "execution_count": 59,
   "metadata": {},
   "outputs": [
    {
     "name": "stdout",
     "output_type": "stream",
     "text": [
      "Monte Carlo VaR:  -10.51\n"
     ]
    }
   ],
   "source": [
    "Var_MC_95 = np.percentile(MC_returns, 5)\n",
    "\n",
    "print(\"Monte Carlo VaR: \",round(Var_MC_95,2))"
   ]
  },
  {
   "cell_type": "markdown",
   "metadata": {},
   "source": [
    "# 3 Comparando os resultados "
   ]
  },
  {
   "cell_type": "code",
   "execution_count": 93,
   "metadata": {},
   "outputs": [
    {
     "name": "stdout",
     "output_type": "stream",
     "text": [
      "                  Var Methods  Results\n",
      "0             Monte Carlo VaR  -10.513\n",
      "1   Historical Simulation VaR -8.73875\n",
      "2  Historical Simulation CVaR -11.8797\n"
     ]
    },
    {
     "data": {
      "image/png": "[encoded data removed]",
      "text/plain": [
       "<Figure size 432x288 with 1 Axes>"
      ]
     },
     "metadata": {},
     "output_type": "display_data"
    }
   ],
   "source": [
    "var_results = [Var_MC_95, var_95,Cvar_95]\n",
    "var_names = [\"Monte Carlo VaR\", \"Historical Simulation VaR\", \"Historical Simulation CVaR\"]\n",
    "\n",
    "Value_at_Risk = pd.DataFrame(data = (var_names, var_results)).T\n",
    "Value_at_Risk.columns = [\"Var Methods\", \"Results\"]\n",
    "\n",
    "\n",
    "sns.barplot(data = Value_at_Risk, x = \"Var Methods\", y = \"Results\")\n",
    "plt.xticks(rotation = 45)\n",
    "plt.title(\"VaR Results for Ethereum\")\n",
    "print(Value_at_Risk)"
   ]
  },
  {
   "cell_type": "markdown",
   "metadata": {},
   "source": [
    "#  4 Conclusões "
   ]
  },
  {
   "cell_type": "markdown",
   "metadata": {},
   "source": [
    "Ao comparar as diferentes metodologias de Value at Risk para os retornos da criptomoeda Ethereum em 2022, conclui-se que a perda esperada para 1 dia de trading considerando uma confiança de 95% tem seu menor valor em 8.73% (considerando estatísticas mais modestas) e seu maior valor em 11.8% (considerando estatísticas mais apuradas)."
   ]
  },
  {
   "cell_type": "markdown",
   "metadata": {},
   "source": [
    "Para ilustar melhor, imagine que um investidor possua uma posição de 1 milhão alocado em Ethereum. Através do Value-at- Risk (VaR) calculado, existe uma perda potencial de até $118.000 em apenas um dia de trading considerando uma confiança de 95%. \n",
    "\n",
    "Esse tipo de informação deve ser esclarecida para o investidor, de modo que ele esteja ciente de que seu portifólio pode desvalorizar mais de 10% em apenas um dia. Ou seja, um assessor de investimentos deveria realizar perguntas como: \n",
    "\n",
    "\"Você esta disposto a correr esse risco?\"\n",
    "\n",
    "\"Caso o pior aconteça, o prejuízo impactara signifcantemente na sua expectativa de investimentos?\" \n",
    "\n",
    "\"Existe uma reserva de emergencia para casos de perda significativa?\" \n",
    "\n"
   ]
  },
  {
   "cell_type": "markdown",
   "metadata": {},
   "source": [
    "Neste estudo utilizou-se a Simulação de Monte Carlo e análise histórica para o calculo do VaR, porém vale ressaltar que ainda existem várias metodologias disponíveis  e que é dever do pesquisador escolher qual a abordagem mais adequada para cada situação! "
   ]
  }
 ],
 "metadata": {
  "kernelspec": {
   "display_name": "Python 3 (ipykernel)",
   "language": "python",
   "name": "python3"
  },
  "language_info": {
   "codemirror_mode": {
    "name": "ipython",
    "version": 3
   },
   "file_extension": ".py",
   "mimetype": "text/x-python",
   "name": "python",
   "nbconvert_exporter": "python",
   "pygments_lexer": "ipython3",
   "version": "3.8.5"
  }
 },
 "nbformat": 4,
 "nbformat_minor": 4
}
